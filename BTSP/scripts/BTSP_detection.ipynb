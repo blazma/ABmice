{
 "cells": [
  {
   "cell_type": "code",
   "execution_count": 1,
   "id": "internal-borough",
   "metadata": {},
   "outputs": [],
   "source": [
    "from ImageAnal import *\n",
    "%matplotlib widget"
   ]
  },
  {
   "cell_type": "code",
   "execution_count": 2,
   "id": "dynamic-variation",
   "metadata": {},
   "outputs": [
    {
     "name": "stdout",
     "output_type": "stream",
     "text": [
      "trigger logfile loaded\n",
      "trigger voltage signal loaded\n",
      "triggers after: 24\n",
      "n_extra_indexes 5\n",
      "candidate log indexes [0, 99, 144]\n",
      "min recorded trigger length: 0.010800000000074306\n",
      "relevant behavior located, lap time of the first frame: 332.40123800000003 , log reference index: 99\n",
      "slight warning - testing some late candidates failed\n",
      "suite2p data loaded\n",
      "corrected offset: 332.39923800000327 voltage_delay: 0.00199999999676947\n",
      "single-plane\n",
      "suite2p time axis loaded\n",
      "calculating dF/F and SNR...\n"
     ]
    },
    {
     "name": "stderr",
     "output_type": "stream",
     "text": [
      "/media/martin/SSD Windows/home/idegi_jelatvitel/ABmice/ImageAnal.py:493: RuntimeWarning: invalid value encountered in true_divide\n",
      "  self.dF_F[i_cell,] = (self.F[i_cell,] - baseline) / baseline\n"
     ]
    },
    {
     "name": "stdout",
     "output_type": "stream",
     "text": [
      "SNR done\n",
      "dF/F calculated for cell ROI-s\n",
      "length of frame_times: 17994\n",
      "length of frame_laps: 17994\n",
      "shape of dF_F: (752, 17994)\n",
      "Short lap found, we have total  778 position bins recorded by the ExpStateMachine in a lap before lap 143\n",
      "laps with im data:  [ 38  39  40  41  42  43  44  45  46  47  48  49  50  51  52  53  54  55\n",
      "  56  57  58  59  60  61  62  63  64  65  66  67  68  69  70  71  72  73\n",
      "  74  75  76  77  78  79  80  81  82  83  84  85  86  87  88  89  90  91\n",
      "  92  93  94  95  96  97  98  99 100 101 102 103 104 105 106 107 108 109\n",
      " 110 111 112 113 114 115 116 117 118 119 120 121 122]\n",
      "calculating rate, reliability and Fano factor...\n",
      "calculating Skaggs spatial info...\n",
      "calculating proportion of active laps...\n",
      "calculating proportion of active laps based on dF/F ...\n",
      "calculating linear tuning specificity ...\n",
      "calculating rate, reliability and Fano factor...\n",
      "calculating Skaggs spatial info...\n",
      "calculating proportion of active laps...\n",
      "calculating proportion of active laps based on dF/F ...\n",
      "calculating linear tuning specificity ...\n",
      "calculating corridor selectivity ...\n",
      "calculating corridor similarity ...\n",
      "testing anticipatory licks...\n",
      "N_corridors:  2\n",
      "corridors:  [14 15]\n"
     ]
    }
   ],
   "source": [
    "datapath = os.getcwd() + '/'  # current working directory - look for data and strings\n",
    "date_time = '2021-11-02_17-02-32'  # date and time of the imaging session\n",
    "name = 'KS028'  # mouse name\n",
    "task = 'NearFarLong'  # task name\n",
    "\n",
    "# locate the suite2p folder\n",
    "suite2p_folder = datapath + 'data/' + name + '_imaging/KS028_110221/'\n",
    "\n",
    "# the name and location of the imaging log file\n",
    "imaging_logfile_name = suite2p_folder + 'KS028_TSeries-11022021-1017-001.xml'\n",
    "\n",
    "# the name and location of the trigger voltage file\n",
    "TRIGGER_VOLTAGE_FILENAME = suite2p_folder + 'KS028_TSeries-11022021-1017-001_Cycle00001_VoltageRecording_001.csv'\n",
    "\n",
    "D1 = ImagingSessionData(datapath, date_time, name, task, suite2p_folder, imaging_logfile_name, TRIGGER_VOLTAGE_FILENAME)"
   ]
  },
  {
   "cell_type": "code",
   "execution_count": 6,
   "id": "breathing-referral",
   "metadata": {},
   "outputs": [
    {
     "name": "stdout",
     "output_type": "stream",
     "text": [
      "P-values successfully read from the saved file.\n"
     ]
    }
   ],
   "source": [
    "D1.calc_shuffle(D1.active_cells, 1000, 'shift', batchsize=50)\n",
    "place_cells = np.union1d(D1.accepted_PCs[0], D1.accepted_PCs[1])"
   ]
  },
  {
   "cell_type": "code",
   "execution_count": 8,
   "id": "trained-notebook",
   "metadata": {},
   "outputs": [
    {
     "data": {
      "text/plain": [
       "398"
      ]
     },
     "execution_count": 8,
     "metadata": {},
     "output_type": "execute_result"
    }
   ],
   "source": [
    "len(place_cells)"
   ]
  },
  {
   "cell_type": "code",
   "execution_count": 9,
   "id": "accomplished-regular",
   "metadata": {},
   "outputs": [
    {
     "data": {
      "text/plain": [
       "array([  0,   1,   2,   3,   5,   6,   8,   9,  10,  14,  16,  17,  18,\n",
       "        19,  22,  23,  26,  29,  30,  31,  33,  36,  40,  41,  45,  46,\n",
       "        48,  50,  51,  52,  53,  55,  56,  57,  58,  59,  60,  61,  63,\n",
       "        64,  65,  66,  67,  68,  69,  72,  73,  74,  75,  77,  78,  80,\n",
       "        81,  82,  83,  84,  85,  88,  90,  92,  93,  94,  95,  96,  99,\n",
       "       100, 101, 102, 103, 105, 107, 108, 109, 110, 114, 115, 116, 119,\n",
       "       121, 122, 123, 124, 125, 126, 128, 129, 132, 133, 134, 136, 137,\n",
       "       138, 139, 140, 142, 143, 144, 146, 147, 148, 149, 150, 152, 153,\n",
       "       154, 156, 157, 162, 163, 164, 165, 167, 168, 169, 170, 171, 172,\n",
       "       173, 176, 178, 179, 180, 181, 182, 183, 184, 186, 189, 190, 192,\n",
       "       193, 199, 201, 202, 205, 206, 207, 208, 210, 211, 212, 213, 214,\n",
       "       215, 216, 218, 220, 222, 223, 224, 225, 227, 229, 230, 232, 233,\n",
       "       234, 237, 238, 239, 240, 241, 243, 244, 245, 246, 247, 249, 253,\n",
       "       255, 258, 261, 262, 263, 264, 266, 268, 269, 272, 273, 274, 275,\n",
       "       276, 278, 282, 283, 285, 286, 287, 289, 299, 300, 301, 303, 306,\n",
       "       307, 308, 311, 315, 317, 318, 319, 320, 322, 324, 329, 331, 333,\n",
       "       334, 335, 337, 338, 339, 341, 342, 343, 344, 345, 346, 347, 348,\n",
       "       349, 354, 358, 364, 366, 370, 372, 373, 374, 377, 380, 382, 384,\n",
       "       385, 392, 393, 396, 398, 399, 400, 403, 404, 406, 407, 409, 410,\n",
       "       411, 412, 414, 415, 417, 420, 423, 424, 428, 431, 436, 438, 442,\n",
       "       445, 446, 447, 448, 450, 452, 454, 457, 458, 460, 461, 464, 465,\n",
       "       466, 467, 468, 470, 471, 475, 478, 480, 484, 485, 487, 489, 490,\n",
       "       491, 493, 494, 495, 496, 497, 498, 502, 504, 505, 507, 508, 509,\n",
       "       510, 514, 515, 516, 517, 519, 520, 522, 523, 525, 529, 532, 533,\n",
       "       537, 538, 546, 548, 549, 550, 555, 556, 557, 558, 560, 561, 562,\n",
       "       563, 565, 569, 570, 571, 572, 574, 575, 576, 582, 585, 587, 588,\n",
       "       589, 592, 593, 594, 596, 598, 602, 605, 608, 611, 614, 615, 616,\n",
       "       618, 619, 621, 624, 625, 626, 630, 631, 638, 641, 643, 645, 646,\n",
       "       651, 654, 660, 661, 662, 665, 668, 673, 674, 676, 681, 685, 686,\n",
       "       688, 693, 694, 695, 697, 698, 699, 700, 701, 712, 714, 721, 723,\n",
       "       726, 727, 732, 737, 740, 741, 748, 750])"
      ]
     },
     "execution_count": 9,
     "metadata": {},
     "output_type": "execute_result"
    }
   ],
   "source": [
    "place_cells"
   ]
  },
  {
   "cell_type": "code",
   "execution_count": 16,
   "id": "funky-productivity",
   "metadata": {},
   "outputs": [
    {
     "name": "stdout",
     "output_type": "stream",
     "text": [
      "F\n",
      "F_all\n",
      "ImLaps\n",
      "N_ImLaps\n",
      "N_all_corridors\n",
      "N_cells\n",
      "N_corridors\n",
      "N_events\n",
      "N_pos_bins\n",
      "Ps_names\n",
      "accepted_PCs\n",
      "active_cells\n",
      "activity_tensor\n",
      "activity_tensor_time\n",
      "all_corridor_start_IDs\n",
      "all_corridor_start_time\n",
      "all_corridors\n",
      "anticipatory\n",
      "candidate_PCs\n",
      "cell_Fano_factor\n",
      "cell_SDs\n",
      "cell_SNR\n",
      "cell_activelaps\n",
      "cell_activelaps_df\n",
      "cell_baselines\n",
      "cell_corridor_selectivity\n",
      "cell_corridor_similarity\n",
      "cell_rates\n",
      "cell_reliability\n",
      "cell_skaggs\n",
      "cell_tuning_specificity\n",
      "corridor_length_cm\n",
      "corridor_length_roxel\n",
      "corridor_list\n",
      "corridors\n",
      "dF_F\n",
      "datapath\n",
      "date_time\n",
      "elfiz\n",
      "even_odd_rate_calculated\n",
      "events\n",
      "frame_laps\n",
      "frame_maze\n",
      "frame_pos\n",
      "frame_times\n",
      "i_Laps_ImData\n",
      "i_corridors\n",
      "ii_tuned_cells\n",
      "im_reftime\n",
      "imaging_logfile_name\n",
      "imstart_time\n",
      "iscell\n",
      "last_zone_end\n",
      "last_zone_start\n",
      "minimum_Nlaps\n",
      "n_laps\n",
      "name\n",
      "neuron_index\n",
      "ops_string\n",
      "randseed\n",
      "ratemaps\n",
      "raw_activity_tensor\n",
      "raw_activity_tensor_time\n",
      "raw_spks\n",
      "reli_tuned_cells\n",
      "selected_laps\n",
      "selective_cells\n",
      "sessionID\n",
      "shuffle_Pvalues\n",
      "similar_cells\n",
      "skaggs_tuned_cells\n",
      "spec_tuned_cells\n",
      "speed_factor\n",
      "speed_threshold\n",
      "spks\n",
      "spks_all\n",
      "stage\n",
      "stage_list\n",
      "stages\n",
      "start_end_rate_calculated\n",
      "stat_string\n",
      "substage_change_laps\n",
      "substage_change_time\n",
      "suite2p_folder\n",
      "task\n",
      "tuned_cells\n"
     ]
    }
   ],
   "source": [
    "keys = [print(key) for key in sorted(D1.__dict__.keys())]"
   ]
  },
  {
   "cell_type": "code",
   "execution_count": 21,
   "id": "sitting-solution",
   "metadata": {},
   "outputs": [
    {
     "data": {
      "text/plain": [
       "1.3048511954245738"
      ]
     },
     "execution_count": 21,
     "metadata": {},
     "output_type": "execute_result"
    }
   ],
   "source": [
    "D1.cell_rates[0][0]"
   ]
  },
  {
   "cell_type": "code",
   "execution_count": null,
   "id": "joined-afternoon",
   "metadata": {},
   "outputs": [],
   "source": []
  }
 ],
 "metadata": {
  "kernelspec": {
   "display_name": "Python 3",
   "language": "python",
   "name": "python3"
  },
  "language_info": {
   "codemirror_mode": {
    "name": "ipython",
    "version": 3
   },
   "file_extension": ".py",
   "mimetype": "text/x-python",
   "name": "python",
   "nbconvert_exporter": "python",
   "pygments_lexer": "ipython3",
   "version": "3.6.9"
  }
 },
 "nbformat": 4,
 "nbformat_minor": 5
}
