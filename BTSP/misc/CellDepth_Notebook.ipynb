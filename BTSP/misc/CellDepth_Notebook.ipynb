{
 "cells": [
  {
   "cell_type": "code",
   "execution_count": 1,
   "id": "7ad339be-2ade-4543-92d3-11f943235f11",
   "metadata": {},
   "outputs": [],
   "source": [
    "import pandas as pd\n",
    "from CellDepth import *\n",
    "%matplotlib tk"
   ]
  },
  {
   "cell_type": "code",
   "execution_count": 3,
   "id": "78696fb0-5392-4dec-b842-e63aa903e7fc",
   "metadata": {},
   "outputs": [],
   "source": [
    "meta_path = r\"D:\\CA3\\CA3_meta.xlsx\"\n",
    "meta_df = pd.read_excel(meta_path)"
   ]
  },
  {
   "cell_type": "code",
   "execution_count": 15,
   "id": "596a38e1-0a7c-4c7f-8828-83df12820e34",
   "metadata": {},
   "outputs": [],
   "source": [
    "session_idx = 2\n",
    "\n",
    "base_dir = r'D:\\CA3\\data'\n",
    "show_rois = False  # if True: shows red diamonds for each cell on the line selection interface\n",
    "\n",
    "animal = meta_df.iloc[session_idx][\"name\"]\n",
    "session = meta_df.iloc[session_idx][\"session id\"]\n",
    "imaging_logfile_name = meta_df.iloc[session_idx][\"imaging_logfile_name\"]\n",
    "cd = CellDepth(base_dir, animal, session, imaging_logfile_name, show_rois)"
   ]
  },
  {
   "cell_type": "code",
   "execution_count": 18,
   "id": "f834b16c-b389-4e57-8d58-5b0a8755caf3",
   "metadata": {},
   "outputs": [],
   "source": [
    "# run this cell when you're done selecting line vertices\n",
    "show_percentages = False\n",
    "show_masks = False\n",
    "cd.calculate_distances(show_percentages)"
   ]
  },
  {
   "cell_type": "code",
   "execution_count": 17,
   "id": "05dc04ca-edad-4a96-839c-8784185ce023",
   "metadata": {},
   "outputs": [],
   "source": [
    "cd.save_results(r\"C:\\Users\\martin\\home\\phd\\btsp_project\\analyses\\manual\\depths\")"
   ]
  },
  {
   "cell_type": "code",
   "execution_count": null,
   "id": "b44ffab8-43d6-49ae-b293-3f19f10a0431",
   "metadata": {},
   "outputs": [],
   "source": []
  }
 ],
 "metadata": {
  "kernelspec": {
   "display_name": "Python 3 (ipykernel)",
   "language": "python",
   "name": "python3"
  },
  "language_info": {
   "codemirror_mode": {
    "name": "ipython",
    "version": 3
   },
   "file_extension": ".py",
   "mimetype": "text/x-python",
   "name": "python",
   "nbconvert_exporter": "python",
   "pygments_lexer": "ipython3",
   "version": "3.12.0"
  }
 },
 "nbformat": 4,
 "nbformat_minor": 5
}
