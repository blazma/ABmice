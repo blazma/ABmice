{
 "cells": [
  {
   "cell_type": "markdown",
   "id": "ba8c5c2f",
   "metadata": {},
   "source": [
    "### Deep-superficial distance generator and property checker\n",
    "This notebook is dependent on the ImageAnal.py, load_resolution_xml.py and calc_deep_sup_distance_jupyter.py scripts - these must be at the same folder as the notebook! Also the data mappa should be at the same folder just like for the ImageAnal notebooks..."
   ]
  },
  {
   "cell_type": "markdown",
   "id": "90bee3d9",
   "metadata": {},
   "source": [
    "1) Load dependencies"
   ]
  },
  {
   "cell_type": "code",
   "execution_count": 1,
   "id": "4ad19286",
   "metadata": {},
   "outputs": [],
   "source": [
    "import matplotlib.pyplot as plt\n",
    "import numpy as np\n",
    "from mpl_point_clicker import clicker #'pip install mpl_point_clicker' command in conda prompt if not installed yet\n",
    "from typing import Tuple\n",
    "import ipywidgets as widgets\n",
    "# custom\n",
    "from load_resolution_xml import get_resolution\n",
    "from calc_deep_sup_distance_jupyter import *\n",
    "from ImageAnal import *"
   ]
  },
  {
   "cell_type": "markdown",
   "id": "6abebf57",
   "metadata": {},
   "source": [
    "2) Load paths"
   ]
  },
  {
   "cell_type": "code",
   "execution_count": 2,
   "id": "effc1e61",
   "metadata": {},
   "outputs": [],
   "source": [
    "datapath = os.getcwd() + '/' #current working directory - look for data and strings here!\n",
    "date_time = '2022-03-18_08-56-03' # date and time of the imaging session\n",
    "name = 'srb185' # mouse name\n",
    "task = 'NearFarLong' # task name\n",
    "\n",
    "## locate the suite2p folder\n",
    "suite2p_folder = datapath + 'data/' + name + '_imaging/srb185_220318/'\n",
    "\n",
    "## the name and location of the imaging log file\n",
    "imaging_logfile_name = suite2p_folder + 'srb185_TSeries-03182022-0800-001.xml'\n",
    "\n",
    "## the name and location of the trigger voltage file\n",
    "TRIGGER_VOLTAGE_FILENAME = suite2p_folder + 'srb185_TSeries-03182022-0800-001_Cycle00001_VoltageRecording_001.csv'"
   ]
  },
  {
   "cell_type": "markdown",
   "id": "0796c063",
   "metadata": {},
   "source": [
    "3) Run core ImageAnal script"
   ]
  },
  {
   "cell_type": "code",
   "execution_count": 3,
   "id": "d1dbfa39",
   "metadata": {},
   "outputs": [
    {
     "name": "stdout",
     "output_type": "stream",
     "text": [
      "trigger logfile loaded\n",
      "trigger voltage signal loaded\n",
      "triggers after: 62\n",
      "n_extra_indexes 5\n",
      "candidate log indexes [0, 99, 198, 228]\n",
      "min recorded trigger length: 0.011200000000144428\n",
      "relevant behavior located, lap time of the first frame: 145.42866200000014 , log reference index: 99\n",
      "slight warning - testing some late candidates failed\n",
      "suite2p data loaded\n",
      "corrected offset: 145.4266620000002 voltage_delay: 0.00199999999995271\n",
      "single-plane\n",
      "suite2p time axis loaded\n",
      "calculating dF/F and SNR...\n",
      "SNR done\n",
      "dF/F calculated for cell ROI-s\n",
      "ExpStateMachineLog time interval > 1s:  1  times\n",
      "length of frame_times: 26887\n",
      "length of frame_laps: 26887\n",
      "shape of dF_F: (34, 26887)\n",
      "lap mode = 0\n",
      "laps with im data:  [ 18  19  20  21  22  23  24  25  26  27  28  29  30  31  32  33  34  35\n",
      "  36  37  38  39  40  41  42  43  44  45  46  47  48  49  50  51  52  53\n",
      "  54  55  56  57  58  59  60  61  62  63  64  65  66  67  68  69  70  71\n",
      "  72  73  74  75  76  77  78  79  80  81  82  83  84  85  86  87  88  89\n",
      "  90  91  92  93  94  95  96  97  98  99 100 101 102 103 104 105 106 107\n",
      " 108 109 110 111 112 113 114 115 116 117 118 119 120 121 122 123 124 125\n",
      " 126 127 128 129 130 131 132 133 134 135 136 137 138 139 140 141 142 143\n",
      " 144 145 146 147 148 149 150 151 152 153 154 155 156 157 158 159]\n",
      "calculating rate, reliability and Fano factor...\n",
      "calculating Skaggs spatial info...\n",
      "calculating proportion of active laps...\n",
      "calculating proportion of active laps based on dF/F ...\n",
      "calculating linear tuning specificity ...\n",
      "calculating rate, reliability and Fano factor...\n",
      "calculating Skaggs spatial info...\n",
      "calculating proportion of active laps...\n",
      "calculating proportion of active laps based on dF/F ...\n",
      "calculating linear tuning specificity ...\n",
      "calculating corridor selectivity ...\n",
      "calculating corridor similarity ...\n",
      "testing anticipatory licks...\n",
      "N_corridors:  2\n",
      "corridors:  [14 15]\n"
     ]
    },
    {
     "name": "stderr",
     "output_type": "stream",
     "text": [
      "C:\\Users\\luko.balazs\\Documents\\KOKI\\UBI_analyser\\ImageAnal.py:1211: RuntimeWarning: divide by zero encountered in double_scalars\n",
      "  if ( ( (sum(lapsums > 0.6) / float(N_laps_corr)) > 0.2)  & ( (rate_inField / rate_outField) > 7) ):\n"
     ]
    }
   ],
   "source": [
    "D1 = ImagingSessionData(datapath, date_time, name, task, suite2p_folder, imaging_logfile_name, TRIGGER_VOLTAGE_FILENAME)#, startendlap=[27, 99])"
   ]
  },
  {
   "cell_type": "markdown",
   "id": "64a3ba9b",
   "metadata": {},
   "source": [
    "4) Do the shuffling"
   ]
  },
  {
   "cell_type": "code",
   "execution_count": 5,
   "id": "9660fa14",
   "metadata": {},
   "outputs": [],
   "source": [
    "cellids = np.arange(D1.N_cells)\n",
    "D1.calc_shuffle(cellids, 1000, 'shift', batchsize=15, verbous=False)"
   ]
  },
  {
   "cell_type": "markdown",
   "id": "5ea1c29d",
   "metadata": {},
   "source": [
    "5) check if there is a distance file already"
   ]
  },
  {
   "cell_type": "code",
   "execution_count": 6,
   "id": "3e340537",
   "metadata": {},
   "outputs": [
    {
     "name": "stdout",
     "output_type": "stream",
     "text": [
      "file exist\n"
     ]
    },
    {
     "data": {
      "application/vnd.jupyter.widget-view+json": {
       "model_id": "d1ba009aed844ee68c1616a4db8d1399",
       "version_major": 2,
       "version_minor": 0
      },
      "text/plain": [
       "Dropdown(description='Decision:', options=('Choose from below:', ' - Load distances from file', ' - Reiniciali…"
      ]
     },
     "metadata": {},
     "output_type": "display_data"
    },
    {
     "name": "stdout",
     "output_type": "stream",
     "text": [
      " - Load distances from file\n"
     ]
    }
   ],
   "source": [
    "if os.path.isfile(suite2p_folder+ '/deep_sup_distances.npy'):\n",
    "    print('file exist')\n",
    "    output_text=widgets.Text()\n",
    "    im_opts=['Choose from below:',' - Load distances from file', ' - Reinicialize distances']\n",
    "    Decision = widgets.Dropdown(options = im_opts,description='Decision:')\n",
    "    \n",
    "    def on_value_change(change):\n",
    "        if change['type'] == 'change' and change['name'] == 'value':\n",
    "            print(change['new'])\n",
    "\n",
    "            output_text.value=change['new']\n",
    "\n",
    "    Decision.observe(on_value_change)\n",
    "    display(Decision)\n",
    "else:\n",
    "    File_found=False\n",
    "    output_text=widgets.Text()\n",
    "    output_text.value=' - Reinicialize distances'\n",
    "    print('No previous distance file detected')"
   ]
  },
  {
   "cell_type": "markdown",
   "id": "198f8bb5",
   "metadata": {},
   "source": [
    "6) Load imaging resolution, mean image, center of ROIs and create the canvas to draw line. Dont forget to mark deep orientation also with the x marker!"
   ]
  },
  {
   "cell_type": "code",
   "execution_count": 7,
   "id": "a504bab1",
   "metadata": {},
   "outputs": [],
   "source": [
    "if output_text.value==' - Reinicialize distances':\n",
    "    x,y,z = get_resolution(imaging_logfile_name)\n",
    "    resolution = float(x)\n",
    "\n",
    "    mean_image_enhanced, x_center, y_center = load_images_centers(suite2p_folder)\n",
    "\n",
    "    %matplotlib qt\n",
    "    fig, ax = plt.subplots()\n",
    "    ax.imshow(mean_image_enhanced, cmap='gray', origin='lower')\n",
    "    plt.scatter(x_center, y_center, c='r', marker = 'D', s=5)\n",
    "    #GUI\n",
    "    klicker = clicker(ax, ['line', 'deep orient.'], markers=['o', 'x'])"
   ]
  },
  {
   "cell_type": "markdown",
   "id": "f643ddec",
   "metadata": {},
   "source": [
    "7) Run this line if finished with drawing - this will extract the distances in micron or load data or warn you to decide what to do with existing file (two cells before this)"
   ]
  },
  {
   "cell_type": "code",
   "execution_count": 12,
   "id": "a9e922f4",
   "metadata": {},
   "outputs": [
    {
     "name": "stdout",
     "output_type": "stream",
     "text": [
      "distances loaded\n"
     ]
    }
   ],
   "source": [
    "if output_text.value==' - Reinicialize distances':\n",
    "    %matplotlib inline\n",
    "    A=deep_superficial(klicker.get_positions(),x_center, y_center, mean_image_enhanced,suite2p_folder, resolution, save = True)\n",
    "    distances = np.array([np.round_(x,1) for x in A.distances])\n",
    "if output_text.value==' - Load distances from file':\n",
    "    print('distances loaded')\n",
    "    distances = np.load(suite2p_folder+ '/deep_sup_distances.npy')\n",
    "if output_text.value!=' - Reinicialize distances' and output_text.value!=' - Load distances from file':\n",
    "    print('Choose what you want to do with previous distance file!')"
   ]
  },
  {
   "cell_type": "markdown",
   "id": "919b9ea0",
   "metadata": {},
   "source": [
    "8.0) plot number of events vs distance"
   ]
  },
  {
   "cell_type": "code",
   "execution_count": 13,
   "id": "552ec0d0",
   "metadata": {},
   "outputs": [],
   "source": [
    "%matplotlib qt\n",
    "#%matplotlib inline\n",
    "\n",
    "plt.figure(figsize=(12,8))\n",
    "plt.scatter(distances, D1.N_events)\n",
    "plt.xlabel('distance')\n",
    "plt.ylabel('N events')\n",
    "plt.show()"
   ]
  },
  {
   "cell_type": "markdown",
   "id": "2e86cb05",
   "metadata": {},
   "source": [
    "8.1) plot SNR vs distances"
   ]
  },
  {
   "cell_type": "code",
   "execution_count": 14,
   "id": "99a91c36",
   "metadata": {
    "scrolled": true
   },
   "outputs": [],
   "source": [
    "plt.figure(figsize=(12,8))\n",
    "plt.scatter(distances, D1.cell_SNR)\n",
    "plt.xlabel('distance')\n",
    "plt.ylabel('SNR')\n",
    "plt.show()"
   ]
  },
  {
   "cell_type": "markdown",
   "id": "5b9e4bf2",
   "metadata": {},
   "source": [
    "8.2) plot spatial tuning parameters vs distance\n",
    "\n",
    "separate = 'corridors' means that the colors will be set according to corridors\n",
    "\n",
    "separate = 'cells' means that the colors will be set according to cells and symbols will code corridors"
   ]
  },
  {
   "cell_type": "code",
   "execution_count": 16,
   "id": "8fe8da3f",
   "metadata": {},
   "outputs": [],
   "source": [
    "separate='corridors'\n",
    "#separate='cells'\n",
    "plot_vs_distance(distances, D1.cell_skaggs, D1.skaggs_tuned_cells, 'skaggs', ['corr 14','corr 15'], separate)\n",
    "plot_vs_distance(distances, D1.cell_reliability, D1.reli_tuned_cells, 'reliability', ['corr. 14','corr. 15'], separate)\n",
    "plot_vs_distance(distances, D1.cell_tuning_specificity, D1.spec_tuned_cells, 'tuning specificity', ['corr. 14','corr. 15'], separate)"
   ]
  },
  {
   "cell_type": "markdown",
   "id": "bea59661",
   "metadata": {},
   "source": [
    "8.3) plot number of events vs event rate"
   ]
  },
  {
   "cell_type": "code",
   "execution_count": 32,
   "id": "6b123a70",
   "metadata": {},
   "outputs": [],
   "source": [
    "total_time = D1.frame_times[-1]-D1.frame_times[0]\n",
    "total_spikes = np.sum(D1.activity_tensor[:,:,:], axis=2)## bin x cells x laps; all activity in all laps in corridor i\n",
    "rates = np.sum(total_spikes, axis=0)/total_time #cells\n",
    "\n",
    "plt.figure(figsize=(8,8))\n",
    "plt.scatter(rates, D1.N_events)\n",
    "plt.xlabel('rate')\n",
    "plt.ylabel('N events')\n",
    "plt.title('rate vs. N events')\n",
    "plt.show()"
   ]
  },
  {
   "cell_type": "markdown",
   "id": "3623bbbc",
   "metadata": {},
   "source": [
    "9) check properties"
   ]
  },
  {
   "cell_type": "code",
   "execution_count": 42,
   "id": "f65850bf",
   "metadata": {},
   "outputs": [
    {
     "data": {
      "image/png": "[encoded data removed]",
      "text/plain": [
       "<Figure size 720x360 with 8 Axes>"
      ]
     },
     "metadata": {
      "needs_background": "light"
     },
     "output_type": "display_data"
    }
   ],
   "source": [
    "D1.plot_properties()"
   ]
  },
  {
   "cell_type": "markdown",
   "id": "49037675",
   "metadata": {},
   "source": [
    "10) save ImageAnal properties"
   ]
  },
  {
   "cell_type": "code",
   "execution_count": 45,
   "id": "0b28f681",
   "metadata": {},
   "outputs": [
    {
     "name": "stdout",
     "output_type": "stream",
     "text": [
      "Session parameters written into file:  cell_properties_corridor_14_N34.csv\n",
      "cell properties for corridor 14  saved into file:  C:\\Users\\luko.balazs\\Documents\\KOKI\\UBI_analyser/data/srb185_imaging/srb185_220318/analysed_data/cell_properties_corridor_14_N34.csv\n",
      "Session parameters written into file:  cell_properties_corridor_15_N34.csv\n",
      "cell properties for corridor 15  saved into file:  C:\\Users\\luko.balazs\\Documents\\KOKI\\UBI_analyser/data/srb185_imaging/srb185_220318/analysed_data/cell_properties_corridor_15_N34.csv\n"
     ]
    }
   ],
   "source": [
    "D1.save_data(True, False, False, False, False)"
   ]
  },
  {
   "cell_type": "markdown",
   "id": "34005d3d",
   "metadata": {},
   "source": [
    "11) print distances (to make it easier to add distance property to the data saved the previous cell)"
   ]
  },
  {
   "cell_type": "code",
   "execution_count": 17,
   "id": "11715031",
   "metadata": {},
   "outputs": [
    {
     "name": "stdout",
     "output_type": "stream",
     "text": [
      "16.143042675467832\n",
      "15.368857224968558\n",
      "14.983152698515404\n",
      "73.75651199928798\n",
      "-23.301485425593555\n",
      "-9.222445474142647\n",
      "92.70731915556364\n",
      "17.3239978499005\n",
      "72.26902892657996\n",
      "47.94092284155512\n",
      "-15.05470134484108\n",
      "-10.995488645691937\n",
      "25.407756116053932\n",
      "28.73459911747012\n",
      "93.46370982523267\n",
      "79.26048623936141\n",
      "-11.337024512269368\n",
      "37.1180290573184\n",
      "39.76272457652897\n",
      "67.71852168244057\n",
      "101.91713881011647\n",
      "37.70932767013093\n",
      "43.73911519456487\n",
      "97.85000659656613\n",
      "81.83463561067842\n",
      "45.466735689149125\n",
      "75.72200070301167\n",
      "63.90730937471389\n",
      "60.544635421658214\n",
      "21.236890300102708\n",
      "7.223096960960758\n",
      "67.97676274791088\n",
      "4.895195534493483\n",
      "-9.368496864239372\n"
     ]
    }
   ],
   "source": [
    "for dist in distances:\n",
    "    print(dist)"
   ]
  },
  {
   "cell_type": "code",
   "execution_count": null,
   "id": "18709f91",
   "metadata": {},
   "outputs": [],
   "source": []
  }
 ],
 "metadata": {
  "kernelspec": {
   "display_name": "Python 3 (ipykernel)",
   "language": "python",
   "name": "python3"
  },
  "language_info": {
   "codemirror_mode": {
    "name": "ipython",
    "version": 3
   },
   "file_extension": ".py",
   "mimetype": "text/x-python",
   "name": "python",
   "nbconvert_exporter": "python",
   "pygments_lexer": "ipython3",
   "version": "3.8.13"
  }
 },
 "nbformat": 4,
 "nbformat_minor": 5
}
